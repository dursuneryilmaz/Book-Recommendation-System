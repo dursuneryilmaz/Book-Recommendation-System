{
 "cells": [
  {
   "cell_type": "markdown",
   "metadata": {},
   "source": [
    "# Common Part"
   ]
  },
  {
   "cell_type": "code",
   "execution_count": 1,
   "metadata": {},
   "outputs": [],
   "source": [
    "# Finding spark path for no error imports\n",
    "import findspark\n",
    "findspark.init()"
   ]
  },
  {
   "cell_type": "code",
   "execution_count": 2,
   "metadata": {},
   "outputs": [],
   "source": [
    "# import section\n",
    "from pyspark import SparkConf\n",
    "from pyspark import SparkContext\n",
    "from pyspark.mllib.recommendation import ALS\n",
    "from pyspark.mllib.recommendation import Rating\n",
    "import numpy as np\n",
    "import random  "
   ]
  },
  {
   "cell_type": "code",
   "execution_count": 3,
   "metadata": {},
   "outputs": [],
   "source": [
    "# initializing spark app and contex\n",
    "conf = SparkConf().setAppName(\"151805011_151805024_RECSYS\")\n",
    "sc = SparkContext(conf=conf)"
   ]
  },
  {
   "cell_type": "code",
   "execution_count": 8,
   "metadata": {},
   "outputs": [],
   "source": [
    "# loading all book rating data for recommendation and data visualization\n",
    "allRatings = sc.textFile(\"book_ratings.dat\")"
   ]
  },
  {
   "cell_type": "code",
   "execution_count": 7,
   "metadata": {},
   "outputs": [],
   "source": [
    "books_info = sc.textFile(\"books_info.dat\")"
   ]
  },
  {
   "cell_type": "code",
   "execution_count": 1,
   "metadata": {},
   "outputs": [
    {
     "name": "stdout",
     "output_type": "stream",
     "text": [
      "DESKTOP-2C2TS6E --> 172.17.44.209\n"
     ]
    }
   ],
   "source": [
    "import socket\n",
    "hostname = socket.gethostname()\n",
    "hostip = socket.gethostbyname(hostname)\n",
    "print(hostname,\"-->\",hostip)"
   ]
  },
  {
   "cell_type": "markdown",
   "metadata": {},
   "source": [
    "# Which ten book most rated?"
   ]
  },
  {
   "cell_type": "code",
   "execution_count": 9,
   "metadata": {},
   "outputs": [
    {
     "data": {
      "text/plain": [
       "[\"1\\t0060973129\\tDecision in Normandy\\tCarlo D'Este\\t1991\\tHarperPerennial\\thttp://images.amazon.com/images/P/0060973129.01.THUMBZZZ.jpg\\thttp://images.amazon.com/images/P/0060973129.01.MZZZZZZZ.jpg\\thttp://images.amazon.com/images/P/0060973129.01.LZZZZZZZ.jpg\\t\",\n",
       " '2\\t0393045218\\tThe Mummies of Urumchi\\tE. J. W. Barber\\t1999\\tW. W. Norton &amp\\t Company\\thttp://images.amazon.com/images/P/0393045218.01.THUMBZZZ.jpg\\thttp://images.amazon.com/images/P/0393045218.01.MZZZZZZZ.jpg\\thttp://images.amazon.com/images/P/0393045218.01.LZZZZZZZ.jpg\\t',\n",
       " \"3\\t0425176428\\tWhat If?: The World's Foremost Military Historians Imagine What Might Have Been\\tRobert Cowley\\t2000\\tBerkley Publishing Group\\thttp://images.amazon.com/images/P/0425176428.01.THUMBZZZ.jpg\\thttp://images.amazon.com/images/P/0425176428.01.MZZZZZZZ.jpg\\thttp://images.amazon.com/images/P/0425176428.01.LZZZZZZZ.jpg\\t\",\n",
       " '4\\t0452264464\\tBeloved (Plume Contemporary Fiction)\\tToni Morrison\\t1994\\tPlume\\thttp://images.amazon.com/images/P/0452264464.01.THUMBZZZ.jpg\\thttp://images.amazon.com/images/P/0452264464.01.MZZZZZZZ.jpg\\thttp://images.amazon.com/images/P/0452264464.01.LZZZZZZZ.jpg\\t',\n",
       " \"5\\t0609804618\\tOur Dumb Century: The Onion Presents 100 Years of Headlines from America's Finest News Source\\tThe Onion\\t1999\\tThree Rivers Press\\thttp://images.amazon.com/images/P/0609804618.01.THUMBZZZ.jpg\\thttp://images.amazon.com/images/P/0609804618.01.MZZZZZZZ.jpg\\thttp://images.amazon.com/images/P/0609804618.01.LZZZZZZZ.jpg\\t\"]"
      ]
     },
     "execution_count": 9,
     "metadata": {},
     "output_type": "execute_result"
    }
   ],
   "source": [
    "books_info.take(5)"
   ]
  },
  {
   "cell_type": "code",
   "execution_count": 10,
   "metadata": {},
   "outputs": [],
   "source": [
    "proper_book_infos = books_info.map(lambda line: line.split(\"\\t\")).map(lambda l:( (int(l[0])), l[2]))"
   ]
  },
  {
   "cell_type": "code",
   "execution_count": 11,
   "metadata": {},
   "outputs": [
    {
     "data": {
      "text/plain": [
       "[(1, 'Decision in Normandy'),\n",
       " (2, 'The Mummies of Urumchi'),\n",
       " (3,\n",
       "  \"What If?: The World's Foremost Military Historians Imagine What Might Have Been\"),\n",
       " (4, 'Beloved (Plume Contemporary Fiction)'),\n",
       " (5,\n",
       "  \"Our Dumb Century: The Onion Presents 100 Years of Headlines from America's Finest News Source\")]"
      ]
     },
     "execution_count": 11,
     "metadata": {},
     "output_type": "execute_result"
    }
   ],
   "source": [
    "proper_book_infos.take(5)"
   ]
  },
  {
   "cell_type": "code",
   "execution_count": 12,
   "metadata": {},
   "outputs": [],
   "source": [
    "# counting most rated book \n",
    "books = allRatings.map(lambda line: line.split(\"\\t\")).map(lambda l: (int(l[1])))\n",
    "bookCounts = books.map(lambda book: (book, 1)).reduceByKey(lambda a,b:a+b)"
   ]
  },
  {
   "cell_type": "code",
   "execution_count": 13,
   "metadata": {},
   "outputs": [
    {
     "data": {
      "text/plain": [
       "[(6264, 4), (4350, 23), (6252, 7), (202, 76), (6266, 5)]"
      ]
     },
     "execution_count": 13,
     "metadata": {},
     "output_type": "execute_result"
    }
   ],
   "source": [
    "bookCounts.take(5)"
   ]
  },
  {
   "cell_type": "code",
   "execution_count": 14,
   "metadata": {},
   "outputs": [],
   "source": [
    "join_book_name = bookCounts.join(proper_book_infos)"
   ]
  },
  {
   "cell_type": "code",
   "execution_count": 15,
   "metadata": {},
   "outputs": [
    {
     "data": {
      "text/plain": [
       "[(6264, (4, 'Something Wicked This Way Comes')),\n",
       " (6252, (7, 'Sacred Sins')),\n",
       " (160, (5, 'The Subtle Knife (His Dark Materials, Book 2)')),\n",
       " (6244, (1, 'Bitter Sweet')),\n",
       " (6260, (3, 'Wilderness Tips'))]"
      ]
     },
     "execution_count": 15,
     "metadata": {},
     "output_type": "execute_result"
    }
   ],
   "source": [
    "join_book_name.take(5)"
   ]
  },
  {
   "cell_type": "code",
   "execution_count": 16,
   "metadata": {},
   "outputs": [],
   "source": [
    "sorted_ratings = join_book_name.map(lambda l: (l[1])).sortBy(lambda l: -l[0])"
   ]
  },
  {
   "cell_type": "code",
   "execution_count": 17,
   "metadata": {},
   "outputs": [
    {
     "data": {
      "text/plain": [
       "[(160, 'Impossible Vacation'),\n",
       " (119, 'The Rescue'),\n",
       " (89, \"Tycoon'S Temptation (Silhouette Desire, No. 1414)\"),\n",
       " (88,\n",
       "  'Past Lives, Present Dreams: How to Use Reincarnation for Personal Growth'),\n",
       " (86, 'The Queen of the Damned (Vampire Chronicles (Paperback))'),\n",
       " (79, 'The Right Hand of Amon'),\n",
       " (77, \"She's Come Undone (Oprah's Book Club (Paperback))\"),\n",
       " (76, 'What a Wonderful World: A Lifetime of Recordings'),\n",
       " (75, 'The Deal'),\n",
       " (73, 'Seabiscuit: An American Legend')]"
      ]
     },
     "execution_count": 17,
     "metadata": {},
     "output_type": "execute_result"
    }
   ],
   "source": [
    "sorted_ratings.take(10)"
   ]
  },
  {
   "cell_type": "code",
   "execution_count": 18,
   "metadata": {},
   "outputs": [],
   "source": [
    "mLabels =  sorted_ratings.map(lambda l: (l[1])).collect()\n",
    "mRatings = sorted_ratings.map(lambda l:(int(l[0]))).collect()"
   ]
  },
  {
   "cell_type": "code",
   "execution_count": 19,
   "metadata": {},
   "outputs": [
    {
     "data": {
      "text/plain": [
       "['Impossible Vacation',\n",
       " 'The Rescue',\n",
       " \"Tycoon'S Temptation (Silhouette Desire, No. 1414)\",\n",
       " 'Past Lives, Present Dreams: How to Use Reincarnation for Personal Growth',\n",
       " 'The Queen of the Damned (Vampire Chronicles (Paperback))',\n",
       " 'The Right Hand of Amon',\n",
       " \"She's Come Undone (Oprah's Book Club (Paperback))\",\n",
       " 'What a Wonderful World: A Lifetime of Recordings',\n",
       " 'The Deal',\n",
       " 'Seabiscuit: An American Legend']"
      ]
     },
     "execution_count": 19,
     "metadata": {},
     "output_type": "execute_result"
    }
   ],
   "source": [
    "mLabels[:10]"
   ]
  },
  {
   "cell_type": "code",
   "execution_count": 20,
   "metadata": {},
   "outputs": [
    {
     "data": {
      "image/png": "[encoded data removed]",
      "text/plain": [
       "<Figure size 432x288 with 1 Axes>"
      ]
     },
     "metadata": {
      "needs_background": "light"
     },
     "output_type": "display_data"
    }
   ],
   "source": [
    "import matplotlib\n",
    "import matplotlib.pyplot as plt\n",
    "import numpy as np\n",
    "\n",
    "\n",
    "labels = mLabels[:10]\n",
    "ratings = mRatings[:10]\n",
    "\n",
    "\n",
    "x = np.arange(len(labels))  # the label locations\n",
    "width = .50  # the width of the bars\n",
    "\n",
    "fig, ax = plt.subplots()\n",
    "rects1 = ax.bar(x - width/2, ratings, width, label='books')\n",
    "\n",
    "# Add some text for labels, title and custom x-axis tick labels, etc.\n",
    "ax.set_ylabel('Ratings')\n",
    "ax.set_title('Most 10 rated books')\n",
    "ax.set_xticks(x)\n",
    "ax.set_xticklabels(labels)\n",
    "ax.legend()\n",
    "\n",
    "\n",
    "def autolabel(rects):\n",
    "    \"\"\"Attach a text label above each bar in *rects*, displaying its height.\"\"\"\n",
    "    for rect in rects:\n",
    "        height = rect.get_height()\n",
    "        ax.annotate('{}'.format(height),\n",
    "                    xy=(rect.get_x() + rect.get_width() / 2, height),\n",
    "                    xytext=(0, 3),  # 3 points vertical offset\n",
    "                    textcoords=\"offset points\",\n",
    "                    ha='center', va='bottom')\n",
    "\n",
    "\n",
    "autolabel(rects1)\n",
    "fig.tight_layout()\n",
    "\n",
    "plt.show()"
   ]
  },
  {
   "cell_type": "markdown",
   "metadata": {},
   "source": [
    "# ALS Recommendation system part"
   ]
  },
  {
   "cell_type": "code",
   "execution_count": 21,
   "metadata": {},
   "outputs": [],
   "source": [
    "# splitting the data 70% for training and 30% for testing\n",
    "(trainRatings, testRatings) = allRatings.randomSplit([0.7, 0.3])"
   ]
  },
  {
   "cell_type": "code",
   "execution_count": 22,
   "metadata": {},
   "outputs": [
    {
     "data": {
      "text/plain": [
       "['1\\t6264\\t7.000000',\n",
       " '1\\t6252\\t5.000000',\n",
       " '1\\t4810\\t5.000000',\n",
       " '1\\t6251\\t9.000000',\n",
       " '1\\t160\\t9.000000']"
      ]
     },
     "execution_count": 22,
     "metadata": {},
     "output_type": "execute_result"
    }
   ],
   "source": [
    "# checking splitted train data\n",
    "trainRatings.take(5)"
   ]
  },
  {
   "cell_type": "code",
   "execution_count": 23,
   "metadata": {},
   "outputs": [
    {
     "data": {
      "text/plain": [
       "['1\\t4350\\t7.000000',\n",
       " '1\\t202\\t9.000000',\n",
       " '1\\t6266\\t6.000000',\n",
       " '1\\t631\\t10.000000',\n",
       " '1\\t6244\\t7.000000']"
      ]
     },
     "execution_count": 23,
     "metadata": {},
     "output_type": "execute_result"
    }
   ],
   "source": [
    "# checking splitted test data\n",
    "testRatings.take(5)"
   ]
  },
  {
   "cell_type": "code",
   "execution_count": 24,
   "metadata": {},
   "outputs": [],
   "source": [
    "# creating Rating objects from transforming by splitted data into fields\n",
    "train_data = trainRatings.map(lambda l: l.split(\"\\t\")).map(lambda l: Rating(int(l[0]), int(l[1]), float(l[2])))"
   ]
  },
  {
   "cell_type": "code",
   "execution_count": 25,
   "metadata": {},
   "outputs": [
    {
     "data": {
      "text/plain": [
       "[Rating(user=1, product=6264, rating=7.0),\n",
       " Rating(user=1, product=6252, rating=5.0),\n",
       " Rating(user=1, product=4810, rating=5.0),\n",
       " Rating(user=1, product=6251, rating=9.0),\n",
       " Rating(user=1, product=160, rating=9.0)]"
      ]
     },
     "execution_count": 25,
     "metadata": {},
     "output_type": "execute_result"
    }
   ],
   "source": [
    "# checking transformed train data, looking for Rating objects\n",
    "train_data.take(5)"
   ]
  },
  {
   "cell_type": "code",
   "execution_count": 26,
   "metadata": {},
   "outputs": [],
   "source": [
    "# for model prediction eliminating test datas given ratings(labels)\n",
    "test_data = testRatings.map(lambda l: l.split(\"\\t\")).map(lambda l: (int(l[0]), int(l[1])))"
   ]
  },
  {
   "cell_type": "code",
   "execution_count": 27,
   "metadata": {},
   "outputs": [
    {
     "data": {
      "text/plain": [
       "[(1, 4350), (1, 202), (1, 6266), (1, 631), (1, 6244)]"
      ]
     },
     "execution_count": 27,
     "metadata": {},
     "output_type": "execute_result"
    }
   ],
   "source": [
    "# transformation checking\n",
    "test_data.take(5)"
   ]
  },
  {
   "cell_type": "code",
   "execution_count": 28,
   "metadata": {},
   "outputs": [],
   "source": [
    "arr_mse = []"
   ]
  },
  {
   "cell_type": "code",
   "execution_count": 29,
   "metadata": {},
   "outputs": [],
   "source": [
    "for rank in ([4, 6, 10]):\n",
    "    for numIterations in ([4, 6, 10]):\n",
    "        for _lambda in ([0.1, 0.01]):\n",
    "            \n",
    "            # seed for randomization (preventing overfitting, memorization)\n",
    "            random.seed(5011) # random.seed(5024)\n",
    "            \n",
    "            # creating ALS model instance with training it\n",
    "            model = ALS.train(train_data, rank, numIterations, lambda_=_lambda, nonnegative=True)\n",
    "\n",
    "            # predicting all of test data\n",
    "            predictions = model.predictAll(test_data)\n",
    "\n",
    "            # transforming prediction's Rating objects to custom schema for join operation to mse calculation\n",
    "            predicted_test_ratings = predictions.map(lambda l: (  (l[0],l[1]), float(l[2])  ))\n",
    "\n",
    "            # transforming original test datas labels for join operation\n",
    "            org_test_ratings = testRatings.map(lambda l: l.split(\"\\t\")).map(lambda l: ((int(l[0]),int(l[1])),float(l[2])   )  )\n",
    "\n",
    "            # joining prediction and original test ratings for proper mse calculation\n",
    "            join_rdd = predicted_test_ratings.join(org_test_ratings)\n",
    "\n",
    "            # getting predicted and original rating tupple\n",
    "            org_test_ratings = join_rdd.map(lambda l: (l[1]))\n",
    "\n",
    "            # seperating predicted and original rating tupple\n",
    "            org_ratings = org_test_ratings.map(lambda l: l[1])\n",
    "            pred_ratings = org_test_ratings.map(lambda l: l[0])\n",
    "\n",
    "            # turning type rdd to list for mse calculation\n",
    "            arr_org_ratings = org_ratings.collect()\n",
    "            arr_pred_ratings = pred_ratings.collect()\n",
    "\n",
    "            # mse calculation in one line with numpy library\n",
    "            mse = np.square(np.subtract(arr_org_ratings, arr_pred_ratings)).mean()\n",
    "            arr_mse.append(mse)"
   ]
  },
  {
   "cell_type": "code",
   "execution_count": 30,
   "metadata": {},
   "outputs": [
    {
     "data": {
      "text/plain": [
       "[4.690589116274951,\n",
       " 13.944573019644775,\n",
       " 4.564894039006604,\n",
       " 10.621736997474885,\n",
       " 4.650766282792199,\n",
       " 8.044538924258708,\n",
       " 5.099880873423481,\n",
       " 17.38131301716288,\n",
       " 5.219832833608394,\n",
       " 10.081407311940957,\n",
       " 4.988577417314946,\n",
       " 9.663132430812722,\n",
       " 5.807769611172119,\n",
       " 11.190920297227008,\n",
       " 5.523034284275562,\n",
       " 9.711939467034377,\n",
       " 5.3857356612295915,\n",
       " 10.155115830771914]"
      ]
     },
     "execution_count": 30,
     "metadata": {},
     "output_type": "execute_result"
    }
   ],
   "source": [
    "arr_mse"
   ]
  }
 ],
 "metadata": {
  "kernelspec": {
   "display_name": "Python 3",
   "language": "python",
   "name": "python3"
  },
  "language_info": {
   "codemirror_mode": {
    "name": "ipython",
    "version": 3
   },
   "file_extension": ".py",
   "mimetype": "text/x-python",
   "name": "python",
   "nbconvert_exporter": "python",
   "pygments_lexer": "ipython3",
   "version": "3.7.4"
  }
 },
 "nbformat": 4,
 "nbformat_minor": 2
}
